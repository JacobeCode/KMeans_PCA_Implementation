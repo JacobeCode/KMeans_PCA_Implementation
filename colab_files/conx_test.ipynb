{
 "cells": [
  {
   "cell_type": "markdown",
   "metadata": {},
   "source": [
    "### Connecting with SQL Database\n",
    "\n",
    "Little Disclaimer\n"
    "Connection to local SQL Database is probably possible through tunneling services like ngrok (didn't tested it by myself with SQL Databases, but it worked fine with MLFlow - but I'm still not sure about safety of it - little disclaimer)"
   ]
  },
  {
   "cell_type": "code",
   "execution_count": null,
   "metadata": {},
   "outputs": [],
   "source": [
    "# This is the exemplary script for Google Colab (for eventual further use)\n",
    "!pip install pyodbc --quiet\n",
    "\n",
    "# Below script covers installation of ODBC17 for pyodbc in Google Colab (shell)\n",
    "# %%sh\n",
    "# apt-get install -y unixodbc-dev\n",
    "# curl https://packages.microsoft.com/keys/microsoft.asc | apt-key add -\n",
    "# curl https://packages.microsoft.com/config/ubuntu/$(lsb_release -rs)/prod.list > /etc/apt/sources.list.d/mssql-release.list\n",
    "# sudo apt-get update\n",
    "# sudo ACCEPT_EULA=Y apt-get -q -y install msodbcsql17"
   ]
  },
  {
   "cell_type": "code",
   "execution_count": null,
   "metadata": {},
   "outputs": [],
   "source": [
    "import pyodbc\n",
    "import pandas\n",
    "\n",
    "from google.colab import userdata\n",
    "\n",
    "# IP or password can be stored in secure container and be extracted to connect to SQL Server (classic on port 1433 - trusted connection allows for Windows Auth)\n",
    "SERVER=userdata.get('IP')\n",
    "DATABASE=''\n",
    "query=''"
   ]
  },
  {
   "cell_type": "code",
   "execution_count": null,
   "metadata": {},
   "outputs": [],
   "source": [
    "# By default there is no pyodbc drivers on Google Colab - simply install it with commands above\n",
    "print(pyodbc.drivers())\n",
    "\n",
    "connectionString = f'DRIVER={{ODBC Driver 17 for SQL Server}};SERVER={SERVER};PORT={1433};Network Library=DBMSSOCN;DATABASE={DATABASE};TRUSTED_CONNECTION=YES'\n",
    "\n",
    "connection = pyodbc.connect(connectionString)\n",
    "cursor = connection.cursor()\n",
    "\n",
    "cursor.execute(query)\n",
    "\n",
    "# Simple data fetch for testing functionality and connection\n",
    "data=cursor.fetchall()\n",
    "data=pandas.DataFrame(data)\n",
    "\n",
    "print(data)\n",
    "\n",
    "connection.close()"
   ]
  }
 ],
 "metadata": {
  "language_info": {
   "name": "python"
  }
 },
 "nbformat": 4,
 "nbformat_minor": 2
}
